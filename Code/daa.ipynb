{
 "cells": [
  {
   "cell_type": "code",
   "execution_count": 3,
   "id": "33ee3a96",
   "metadata": {},
   "outputs": [],
   "source": [
    "def mol_with_atom_index(mol):\n",
    "  for atom in mol.GetAtoms():\n",
    "    atom.SetAtomMapNum(atom.GetIdx())\n",
    "  return mol"
   ]
  },
  {
   "cell_type": "code",
   "execution_count": 4,
   "id": "b8c7b3fd",
   "metadata": {},
   "outputs": [],
   "source": [
    "from urllib.request import urlopen\n",
    "from urllib.parse import quote\n",
    "\n",
    "def CIRconvert(ids):\n",
    "  try:\n",
    "    url = 'https://cactus.nci.nih.gov/chemical/structure/' + quote(ids) + '/smiles'\n",
    "    ans = urlopen(url).read().decode('utf8')\n",
    "    return ans\n",
    "  except:\n",
    "    return 'Did not work'"
   ]
  },
  {
   "cell_type": "code",
   "execution_count": 5,
   "id": "f2f1594c",
   "metadata": {},
   "outputs": [
    {
     "name": "stdout",
     "output_type": "stream",
     "text": [
      "Defaulting to user installation because normal site-packages is not writeable\n",
      "Requirement already satisfied: rdkit-pypi in c:\\users\\sowgn\\appdata\\roaming\\python\\python39\\site-packages (2021.9.5.1)\n",
      "Requirement already satisfied: numpy>=1.19 in c:\\users\\sowgn\\appdata\\roaming\\python\\python39\\site-packages (from rdkit-pypi) (1.21.1)\n",
      "Requirement already satisfied: Pillow in c:\\users\\sowgn\\appdata\\roaming\\python\\python39\\site-packages (from rdkit-pypi) (9.0.0)\n"
     ]
    }
   ],
   "source": [
    "\n",
    "!pip install rdkit-pypi"
   ]
  },
  {
   "cell_type": "code",
   "execution_count": 6,
   "id": "a7df62f6",
   "metadata": {},
   "outputs": [
    {
     "name": "stdout",
     "output_type": "stream",
     "text": [
      "Enter primary protien compoud1 of caraway seeds  : (+)-carvone\n",
      "CC(=C)[C@H]1CC=C(C)C(=O)C1\n"
     ]
    },
    {
     "data": {
      "image/png": "[encoded data removed]",
      "text/plain": [
       "<rdkit.Chem.rdchem.Mol at 0x28e2f85fe80>"
      ]
     },
     "execution_count": 6,
     "metadata": {},
     "output_type": "execute_result"
    }
   ],
   "source": [
    "from rdkit import Chem\n",
    "p__c1_name1 = input(\"Enter primary protien compoud1 of caraway seeds  : \")\n",
    "s_c1_formula1 = CIRconvert(p__c1_name1)\n",
    "print(s_c1_formula1)\n",
    "mol1 = Chem.MolFromSmiles(s_c1_formula1)\n",
    "mol_with_atom_index(mol1)"
   ]
  },
  {
   "cell_type": "code",
   "execution_count": 8,
   "id": "af73015b",
   "metadata": {
    "scrolled": true
   },
   "outputs": [
    {
     "name": "stdout",
     "output_type": "stream",
     "text": [
      "Enter primary protien compoud1 of spearmint oil :  (-)-carvone\n",
      "CC(=C)[C@@H]1CC=C(C)C(=O)C1\n"
     ]
    },
    {
     "data": {
      "image/png": "[encoded data removed]",
      "text/plain": [
       "<rdkit.Chem.rdchem.Mol at 0x28e1f28bee0>"
      ]
     },
     "execution_count": 8,
     "metadata": {},
     "output_type": "execute_result"
    }
   ],
   "source": [
    "from rdkit import Chem\n",
    "p__c1_name2 = input(\"Enter primary protien compoud1 of spearmint oil : \")\n",
    "s_c1_formula2 = CIRconvert(p__c1_name2)\n",
    "print(s_c1_formula2)\n",
    "mol2 = Chem.MolFromSmiles(s_c1_formula2)\n",
    "mol_with_atom_index(mol2)"
   ]
  },
  {
   "cell_type": "code",
   "execution_count": 9,
   "id": "9142186c",
   "metadata": {},
   "outputs": [
    {
     "data": {
      "text/plain": [
       "1"
      ]
     },
     "execution_count": 9,
     "metadata": {},
     "output_type": "execute_result"
    }
   ],
   "source": [
    "from rdkit.Chem.EnumerateStereoisomers import EnumerateStereoisomers,StereoEnumerationOptions\n",
    "isomers = tuple(EnumerateStereoisomers(mol1))\n",
    "len(isomers)"
   ]
  },
  {
   "cell_type": "code",
   "execution_count": 10,
   "id": "cf7e7f36",
   "metadata": {},
   "outputs": [
    {
     "name": "stdout",
     "output_type": "stream",
     "text": [
      "C[C:1](=[CH2:2])[C@@H:3]1[CH2:4][CH:5]=[C:6]([CH3:7])[C:8](=[O:9])[CH2:10]1\n"
     ]
    }
   ],
   "source": [
    "from rdkit import Chem\n",
    "for smi in sorted(Chem.MolToSmiles(x,isomericSmiles=True)for x in isomers):\n",
    "    print(smi)\n",
    "    isomer=Chem.MolFromSmiles(smi)\n",
    "    mol_with_atom_index(isomer)"
   ]
  },
  {
   "cell_type": "code",
   "execution_count": 11,
   "id": "585612ed",
   "metadata": {},
   "outputs": [
    {
     "name": "stdout",
     "output_type": "stream",
     "text": [
      "Defaulting to user installation because normal site-packages is not writeableNote: you may need to restart the kernel to use updated packages.\n",
      "Requirement already satisfied: pysmiles in c:\\users\\sowgn\\appdata\\roaming\\python\\python39\\site-packages (1.0.1)\n",
      "Requirement already satisfied: pbr in c:\\users\\sowgn\\appdata\\roaming\\python\\python39\\site-packages (from pysmiles) (5.8.1)\n",
      "Requirement already satisfied: networkx~=2.0 in c:\\users\\sowgn\\appdata\\roaming\\python\\python39\\site-packages (from pysmiles) (2.7)\n",
      "\n"
     ]
    }
   ],
   "source": [
    "pip install pysmiles"
   ]
  },
  {
   "cell_type": "code",
   "execution_count": 13,
   "id": "08bfdca8",
   "metadata": {},
   "outputs": [
    {
     "name": "stderr",
     "output_type": "stream",
     "text": [
      "Atom \"[C@@H]\" contains stereochemical information that will be discarded.\n",
      "Atom \"[C@@H]\" contains stereochemical information that will be discarded.\n"
     ]
    },
    {
     "name": "stdout",
     "output_type": "stream",
     "text": [
      "[(0, 'C'), (1, 'C'), (2, 'C'), (3, 'C'), (4, 'C'), (5, 'C'), (6, 'C'), (7, 'C'), (8, 'C'), (9, 'O'), (10, 'C')]\n",
      "[[0. 1. 0. 0. 0. 0. 0. 0. 0. 0. 0.]\n",
      " [1. 0. 1. 1. 0. 0. 0. 0. 0. 0. 0.]\n",
      " [0. 1. 0. 0. 0. 0. 0. 0. 0. 0. 0.]\n",
      " [0. 1. 0. 0. 1. 0. 0. 0. 0. 0. 1.]\n",
      " [0. 0. 0. 1. 0. 1. 0. 0. 0. 0. 0.]\n",
      " [0. 0. 0. 0. 1. 0. 1. 0. 0. 0. 0.]\n",
      " [0. 0. 0. 0. 0. 1. 0. 1. 1. 0. 0.]\n",
      " [0. 0. 0. 0. 0. 0. 1. 0. 0. 0. 0.]\n",
      " [0. 0. 0. 0. 0. 0. 1. 0. 0. 1. 1.]\n",
      " [0. 0. 0. 0. 0. 0. 0. 0. 1. 0. 0.]\n",
      " [0. 0. 0. 1. 0. 0. 0. 0. 1. 0. 0.]]\n",
      "[(0, 'C'), (1, 'C'), (2, 'C'), (3, 'C'), (4, 'C'), (5, 'C'), (6, 'C'), (7, 'C'), (8, 'C'), (9, 'O'), (10, 'C')]\n",
      "[[0. 1. 0. 0. 0. 0. 0. 0. 0. 0. 0.]\n",
      " [1. 0. 1. 1. 0. 0. 0. 0. 0. 0. 0.]\n",
      " [0. 1. 0. 0. 0. 0. 0. 0. 0. 0. 0.]\n",
      " [0. 1. 0. 0. 1. 0. 0. 0. 0. 0. 1.]\n",
      " [0. 0. 0. 1. 0. 1. 0. 0. 0. 0. 0.]\n",
      " [0. 0. 0. 0. 1. 0. 1. 0. 0. 0. 0.]\n",
      " [0. 0. 0. 0. 0. 1. 0. 1. 1. 0. 0.]\n",
      " [0. 0. 0. 0. 0. 0. 1. 0. 0. 0. 0.]\n",
      " [0. 0. 0. 0. 0. 0. 1. 0. 0. 1. 1.]\n",
      " [0. 0. 0. 0. 0. 0. 0. 0. 1. 0. 0.]\n",
      " [0. 0. 0. 1. 0. 0. 0. 0. 1. 0. 0.]]\n"
     ]
    }
   ],
   "source": [
    "from pysmiles import read_smiles\n",
    "import networkx as nx\n",
    "smiles='CCCC'\n",
    "mol_1=read_smiles(s_c1_formula1)\n",
    "mol_2=read_smiles(s_c1_formula2)\n",
    "\n",
    "nodes_c1 =mol_1.nodes(data='element')\n",
    "nodes_c2=mol_2.nodes(data='element')\n",
    "adj_matrix_c1=nx.to_numpy_matrix(mol_1)\n",
    "\n",
    "adj_matrix_c2=nx.to_numpy_matrix(mol_2)\n",
    "print(nodes_c1)\n",
    "print(adj_matrix_c1)\n",
    "\n",
    "print(nodes_c2)\n",
    "print(adj_matrix_c2)"
   ]
  },
  {
   "cell_type": "code",
   "execution_count": 14,
   "id": "c001d1e3",
   "metadata": {},
   "outputs": [
    {
     "name": "stdout",
     "output_type": "stream",
     "text": [
      "Defaulting to user installation because normal site-packages is not writeable\n",
      "Requirement already satisfied: networkx in c:\\users\\sowgn\\appdata\\roaming\\python\\python39\\site-packages (2.7)\n",
      "Note: you may need to restart the kernel to use updated packages.\n"
     ]
    }
   ],
   "source": [
    "pip install networkx"
   ]
  },
  {
   "cell_type": "code",
   "execution_count": 15,
   "id": "44f38178",
   "metadata": {},
   "outputs": [
    {
     "data": {
      "text/plain": [
       "True"
      ]
     },
     "execution_count": 15,
     "metadata": {},
     "output_type": "execute_result"
    }
   ],
   "source": [
    "from networkx.algorithms import isomorphism\n",
    "G1=nx.from_numpy_matrix(adj_matrix_c1)\n",
    "G2=nx.from_numpy_matrix(adj_matrix_c2)\n",
    "GM=isomorphism.GraphMatcher(G1,G2)\n",
    "GM.is_isomorphic()"
   ]
  },
  {
   "cell_type": "code",
   "execution_count": 16,
   "id": "dd10903d",
   "metadata": {},
   "outputs": [
    {
     "name": "stdout",
     "output_type": "stream",
     "text": [
      "Enter primary protien compoud2 of caraway seeds  : dl-limonene\n",
      "CC(=C)C1CCC(=CC1)C\n"
     ]
    },
    {
     "data": {
      "image/png": "[encoded data removed]",
      "text/plain": [
       "<rdkit.Chem.rdchem.Mol at 0x28e2fcb2a00>"
      ]
     },
     "execution_count": 16,
     "metadata": {},
     "output_type": "execute_result"
    }
   ],
   "source": [
    "from rdkit import Chem\n",
    "p__c2_name1 = input(\"Enter primary protien compoud2 of caraway seeds  : \")\n",
    "s_c2_formula1 = CIRconvert(p__c2_name1)\n",
    "print(s_c2_formula1)\n",
    "mol1 = Chem.MolFromSmiles(s_c2_formula1)\n",
    "mol_with_atom_index(mol1)"
   ]
  },
  {
   "cell_type": "code",
   "execution_count": 17,
   "id": "10b9eb9d",
   "metadata": {},
   "outputs": [
    {
     "name": "stdout",
     "output_type": "stream",
     "text": [
      "Enter primary protien compoud2 of spearmint oil : limonene\n",
      "CC(=C)C1CCC(=CC1)C\n"
     ]
    },
    {
     "data": {
      "image/png": "[encoded data removed]",
      "text/plain": [
       "<rdkit.Chem.rdchem.Mol at 0x28e2fcb2ac0>"
      ]
     },
     "execution_count": 17,
     "metadata": {},
     "output_type": "execute_result"
    }
   ],
   "source": [
    "from rdkit import Chem\n",
    "p__c2_name2 = input(\"Enter primary protien compoud2 of spearmint oil : \")\n",
    "s_c2_formula2 = CIRconvert(p__c2_name2)\n",
    "print(s_c2_formula2)\n",
    "mol2 = Chem.MolFromSmiles(s_c2_formula2)\n",
    "mol_with_atom_index(mol2)"
   ]
  },
  {
   "cell_type": "code",
   "execution_count": 18,
   "id": "66fa39c3",
   "metadata": {},
   "outputs": [
    {
     "data": {
      "text/plain": [
       "2"
      ]
     },
     "execution_count": 18,
     "metadata": {},
     "output_type": "execute_result"
    }
   ],
   "source": [
    "from rdkit.Chem.EnumerateStereoisomers import EnumerateStereoisomers,StereoEnumerationOptions\n",
    "isomers = tuple(EnumerateStereoisomers(mol1))\n",
    "len(isomers)"
   ]
  },
  {
   "cell_type": "code",
   "execution_count": 19,
   "id": "cc25a0eb",
   "metadata": {},
   "outputs": [
    {
     "name": "stdout",
     "output_type": "stream",
     "text": [
      "C[C:1](=[CH2:2])[C@@H:3]1[CH2:4][CH2:5][C:6]([CH3:9])=[CH:7][CH2:8]1\n",
      "C[C:1](=[CH2:2])[C@H:3]1[CH2:4][CH2:5][C:6]([CH3:9])=[CH:7][CH2:8]1\n"
     ]
    }
   ],
   "source": [
    "from rdkit import Chem\n",
    "for smi in sorted(Chem.MolToSmiles(x,isomericSmiles=True)for x in isomers):\n",
    "    print(smi)\n",
    "    isomer=Chem.MolFromSmiles(smi)\n",
    "    mol_with_atom_index(isomer)"
   ]
  },
  {
   "cell_type": "code",
   "execution_count": 20,
   "id": "ca2db7da",
   "metadata": {},
   "outputs": [
    {
     "name": "stdout",
     "output_type": "stream",
     "text": [
      "[(0, 'C'), (1, 'C'), (2, 'C'), (3, 'C'), (4, 'C'), (5, 'C'), (6, 'C'), (7, 'C'), (8, 'C'), (9, 'C')]\n",
      "[[0. 1. 0. 0. 0. 0. 0. 0. 0. 0.]\n",
      " [1. 0. 1. 1. 0. 0. 0. 0. 0. 0.]\n",
      " [0. 1. 0. 0. 0. 0. 0. 0. 0. 0.]\n",
      " [0. 1. 0. 0. 1. 0. 0. 0. 1. 0.]\n",
      " [0. 0. 0. 1. 0. 1. 0. 0. 0. 0.]\n",
      " [0. 0. 0. 0. 1. 0. 1. 0. 0. 0.]\n",
      " [0. 0. 0. 0. 0. 1. 0. 1. 0. 1.]\n",
      " [0. 0. 0. 0. 0. 0. 1. 0. 1. 0.]\n",
      " [0. 0. 0. 1. 0. 0. 0. 1. 0. 0.]\n",
      " [0. 0. 0. 0. 0. 0. 1. 0. 0. 0.]]\n",
      "[(0, 'C'), (1, 'C'), (2, 'C'), (3, 'C'), (4, 'C'), (5, 'C'), (6, 'C'), (7, 'C'), (8, 'C'), (9, 'C')]\n",
      "[[0. 1. 0. 0. 0. 0. 0. 0. 0. 0.]\n",
      " [1. 0. 1. 1. 0. 0. 0. 0. 0. 0.]\n",
      " [0. 1. 0. 0. 0. 0. 0. 0. 0. 0.]\n",
      " [0. 1. 0. 0. 1. 0. 0. 0. 1. 0.]\n",
      " [0. 0. 0. 1. 0. 1. 0. 0. 0. 0.]\n",
      " [0. 0. 0. 0. 1. 0. 1. 0. 0. 0.]\n",
      " [0. 0. 0. 0. 0. 1. 0. 1. 0. 1.]\n",
      " [0. 0. 0. 0. 0. 0. 1. 0. 1. 0.]\n",
      " [0. 0. 0. 1. 0. 0. 0. 1. 0. 0.]\n",
      " [0. 0. 0. 0. 0. 0. 1. 0. 0. 0.]]\n"
     ]
    }
   ],
   "source": [
    "from pysmiles import read_smiles\n",
    "import networkx as nx\n",
    "smiles='CCCC'\n",
    "mol_1=read_smiles(s_c2_formula1)\n",
    "mol_2=read_smiles(s_c2_formula2)\n",
    "\n",
    "nodes_c1 =mol_1.nodes(data='element')\n",
    "nodes_c2=mol_2.nodes(data='element')\n",
    "adj_matrix_c1=nx.to_numpy_matrix(mol_1)\n",
    "\n",
    "adj_matrix_c2=nx.to_numpy_matrix(mol_2)\n",
    "print(nodes_c1)\n",
    "print(adj_matrix_c1)\n",
    "\n",
    "print(nodes_c2)\n",
    "print(adj_matrix_c2)"
   ]
  },
  {
   "cell_type": "code",
   "execution_count": 21,
   "id": "e75e1020",
   "metadata": {},
   "outputs": [
    {
     "data": {
      "text/plain": [
       "True"
      ]
     },
     "execution_count": 21,
     "metadata": {},
     "output_type": "execute_result"
    }
   ],
   "source": [
    "from networkx.algorithms import isomorphism\n",
    "G1=nx.from_numpy_matrix(adj_matrix_c1)\n",
    "G2=nx.from_numpy_matrix(adj_matrix_c2)\n",
    "GM=isomorphism.GraphMatcher(G1,G2)\n",
    "GM.is_isomorphic()"
   ]
  },
  {
   "cell_type": "code",
   "execution_count": null,
   "id": "6adbebad",
   "metadata": {},
   "outputs": [],
   "source": []
  }
 ],
 "metadata": {
  "kernelspec": {
   "display_name": "Python 3 (ipykernel)",
   "language": "python",
   "name": "python3"
  },
  "language_info": {
   "codemirror_mode": {
    "name": "ipython",
    "version": 3
   },
   "file_extension": ".py",
   "mimetype": "text/x-python",
   "name": "python",
   "nbconvert_exporter": "python",
   "pygments_lexer": "ipython3",
   "version": "3.9.6"
  }
 },
 "nbformat": 4,
 "nbformat_minor": 5
}
